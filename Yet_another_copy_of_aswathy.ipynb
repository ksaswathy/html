{
  "nbformat": 4,
  "nbformat_minor": 0,
  "metadata": {
    "colab": {
      "provenance": [],
      "authorship_tag": "ABX9TyN1gbAB4/a4tVuLuMbRSv3y",
      "include_colab_link": true
    },
    "kernelspec": {
      "name": "python3",
      "display_name": "Python 3"
    },
    "language_info": {
      "name": "python"
    }
  },
  "cells": [
    {
      "cell_type": "markdown",
      "metadata": {
        "id": "view-in-github",
        "colab_type": "text"
      },
      "source": [
        "<a href=\"https://colab.research.google.com/github/ksaswathy/html/blob/main/Yet_another_copy_of_aswathy.ipynb\" target=\"_parent\"><img src=\"https://colab.research.google.com/assets/colab-badge.svg\" alt=\"Open In Colab\"/></a>"
      ]
    },
    {
      "cell_type": "code",
      "execution_count": null,
      "metadata": {
        "colab": {
          "base_uri": "https://localhost:8080/"
        },
        "id": "tlVs_IWFPi5U",
        "outputId": "99b6afa7-5aa2-466e-b651-a92acd91df17"
      },
      "outputs": [
        {
          "output_type": "stream",
          "name": "stdout",
          "text": [
            "enter the age:12\n",
            "not eligible for voting\n"
          ]
        }
      ],
      "source": [
        "# porgram check to eligible for voting\n",
        "age=int(input(\"enter the age:\"))\n",
        "if age>=18:\n",
        "  print(\"eligible for voting\")\n",
        "else:\n",
        "  print(\"not eligible for voting\")"
      ]
    },
    {
      "cell_type": "code",
      "source": [
        "# program to check given number is odd or even\n",
        "num1=int(input(\"enter the number:\"))\n",
        "if num1>0:\n",
        "  if num1%2==0:\n",
        "    print(\"the number is even\")\n",
        "  else:\n",
        "    print(\"the number is odd\")"
      ],
      "metadata": {
        "colab": {
          "base_uri": "https://localhost:8080/"
        },
        "id": "Id0EVCPjQvdt",
        "outputId": "496d957d-e3f6-4836-e653-c33a4b16912a"
      },
      "execution_count": null,
      "outputs": [
        {
          "output_type": "stream",
          "name": "stdout",
          "text": [
            "enter the number:1\n",
            "the number is odd\n"
          ]
        }
      ]
    },
    {
      "cell_type": "code",
      "source": [
        "# program to find the largest among three number\n",
        "print(\"enter the number in order\")\n",
        "num1=float (input(\"enter the first number\"))\n",
        "num2=float(input(\"enter the second number\"))\n",
        "num3=float(input(\"enter the third number\"))\n",
        "if num1>=num2 and num1>=num2:\n",
        "  print(\"grater:\",num1)\n",
        "elif num2>=num1 and num2<=num3:\n",
        "  print(\"grater:\",num2)\n",
        "else:9\n",
        "  print(\"grater:\",num3)"
      ],
      "metadata": {
        "colab": {
          "base_uri": "https://localhost:8080/"
        },
        "id": "amE9BUonRbaA",
        "outputId": "e2bd5664-ad11-438b-a5db-9c0b04181340"
      },
      "execution_count": null,
      "outputs": [
        {
          "output_type": "stream",
          "name": "stdout",
          "text": [
            "enter the number in order\n",
            "enter the first number1\n",
            "enter the second number9\n",
            "enter the third number8\n",
            "grater: 8.0\n"
          ]
        }
      ]
    },
    {
      "cell_type": "code",
      "source": [
        "# progrsm to print electricity bill\n",
        "print(\"electricity bill - house\")\n",
        "units=float(input(\"enter the units:\"))\n",
        "if units <=50:\n",
        "  amount=(units * 0.25)\n",
        "  print(\"amount : rd\",amount)\n",
        "elif units <=100:\n",
        "  balance=units-50\n",
        "  amount=(50 * 0.25)+(balance * 50)\n",
        "  print(\"amount : rs\",amount)\n",
        "elif units <=150:\n",
        "  balance=units-100\n",
        "  amount=(100 * 0.25)+(balance * 100)\n",
        "  print(\"amount : rs\",amount)\n",
        "elif units <=200:\n",
        "  balance=units-150\n",
        "  amount=(150 *0.25)+(balance * 150)\n",
        "  print(\"amount : rs\",amount)\n",
        "elif units >200:\n",
        "  balance=units-200\n",
        "  amount=(50 * 0.25)+(50 * 0.50)+(50 * 0.75)+(balance * 1.00)\n",
        "  print(\"amount : rs\",amount)"
      ],
      "metadata": {
        "colab": {
          "base_uri": "https://localhost:8080/"
        },
        "id": "w6OdKuNXXKlc",
        "outputId": "bcc6d955-4f85-4c24-abac-a4f5d27ad745"
      },
      "execution_count": null,
      "outputs": [
        {
          "output_type": "stream",
          "name": "stdout",
          "text": [
            "electricity bill - house\n",
            "enter the units:50\n",
            "amount : rd 12.5\n"
          ]
        }
      ]
    },
    {
      "cell_type": "code",
      "source": [
        "# program to determine the season based on month\n",
        "month=int(input(\"enter the month(1-12):\"))\n",
        "if 3<=month<=5:\n",
        "  season=\"spring\"\n",
        "elif 6 <= month <= 8:\n",
        "  season=\"summer\"\n",
        "elif 9 <= month <= 11:\n",
        "  season=\"autumn\"\n",
        "else:\n",
        "  season=\"winter\"\n",
        "print(\"the seson is\",season)"
      ],
      "metadata": {
        "colab": {
          "base_uri": "https://localhost:8080/"
        },
        "id": "bleZn56sbev0",
        "outputId": "4c7176d4-a1e9-4a86-eb00-73748e47e4cc"
      },
      "execution_count": null,
      "outputs": [
        {
          "output_type": "stream",
          "name": "stdout",
          "text": [
            "enter the month(1-12):5\n",
            "the seson is spring\n"
          ]
        }
      ]
    },
    {
      "cell_type": "code",
      "source": [
        "# calculate the discount on purchase:\n",
        "total_price = float(input(\"enter the total_price:\"))\n",
        "\n",
        "if total_price > 100 :\n",
        "  discount = total_price * 0.10\n",
        "else:\n",
        "  discount = 0\n",
        "\n",
        "final_price = total_price - discount\n",
        "print(\"discount: 5\", discount)"
      ],
      "metadata": {
        "colab": {
          "base_uri": "https://localhost:8080/"
        },
        "id": "LHBiqjtweFKI",
        "outputId": "786a154e-cc79-4252-ff93-a82e06d1955b"
      },
      "execution_count": null,
      "outputs": [
        {
          "output_type": "stream",
          "name": "stdout",
          "text": [
            "enter the total_price:334\n",
            "discount: 5 33.4\n"
          ]
        }
      ]
    },
    {
      "cell_type": "code",
      "source": [
        "#check if number is prime:\n",
        "num = int(input(\"enter the number:\"))\n",
        "\n",
        "if num > 1:\n",
        "  for i in range(2,num):\n",
        "     if(num % i) == 0:\n",
        "      print(num, \"is not a price number\")\n",
        "      break\n",
        "  else:\n",
        "    print(num, \"is a prime number\")\n",
        "else:\n",
        "  print(num, \"is not a prime number\")"
      ],
      "metadata": {
        "colab": {
          "base_uri": "https://localhost:8080/"
        },
        "id": "8iEvZ8uzgUFh",
        "outputId": "ba0110bd-1b3c-47e7-a360-9c76596568ac"
      },
      "execution_count": null,
      "outputs": [
        {
          "output_type": "stream",
          "name": "stdout",
          "text": [
            "enter the number:4\n",
            "4 is not a price number\n"
          ]
        }
      ]
    },
    {
      "cell_type": "code",
      "source": [
        "#program to slice string\n",
        "name=\"hello word\"\n",
        "a=\"welcome\"\n",
        "print(name[2:5])\n",
        "print(name[-4:-2])\n",
        "print(name[::-1])\n",
        "print(name+a)\n",
        "print(a*(12))\n",
        "print(name[6:5])"
      ],
      "metadata": {
        "colab": {
          "base_uri": "https://localhost:8080/"
        },
        "id": "Ze6tdNxJh34f",
        "outputId": "e585a902-83b2-4c6d-8385-4d09cecef11d"
      },
      "execution_count": null,
      "outputs": [
        {
          "output_type": "stream",
          "name": "stdout",
          "text": [
            "llo\n",
            "wo\n",
            "drow olleh\n",
            "hello wordwelcome\n",
            "welcomewelcomewelcomewelcomewelcomewelcomewelcomewelcomewelcomewelcomewelcomewelcome\n",
            "\n"
          ]
        }
      ]
    },
    {
      "cell_type": "code",
      "source": [
        "#list programs\n",
        "mylist=[\"aswathy\",21,\"thrissur\"]\n",
        "print(mylist)\n",
        "print(mylist[2])\n",
        "print(mylist[2][::-1])\n",
        "print(mylist[::-1])\n"
      ],
      "metadata": {
        "colab": {
          "base_uri": "https://localhost:8080/"
        },
        "id": "TvATF4Ddi5en",
        "outputId": "7240c0bf-7d39-4346-b9b0-c9fbf7a700cf"
      },
      "execution_count": null,
      "outputs": [
        {
          "output_type": "stream",
          "name": "stdout",
          "text": [
            "['aswathy', 21, 'thrissur']\n",
            "thrissur\n",
            "russirht\n",
            "['thrissur', 21, 'aswathy']\n"
          ]
        }
      ]
    },
    {
      "cell_type": "code",
      "source": [
        "#tuple programs\n",
        "mytuple=(\"aswathy\",21,\"thrissur\")\n",
        "mytuple1=(\"edapally\",)\n",
        "print(mytuple)\n",
        "print(mytuple[0:2])\n",
        "print(mytuple[::-1])\n",
        "print(mytuple*(12))\n",
        "p=(mytuple+mytuple1)\n",
        "print(p)"
      ],
      "metadata": {
        "colab": {
          "base_uri": "https://localhost:8080/"
        },
        "id": "wJF0kajBj2YU",
        "outputId": "b75d4cfd-aba2-41b1-e868-9106b52b21a6"
      },
      "execution_count": null,
      "outputs": [
        {
          "output_type": "stream",
          "name": "stdout",
          "text": [
            "('aswathy', 21, 'thrissur')\n",
            "('aswathy', 21)\n",
            "('thrissur', 21, 'aswathy')\n",
            "('aswathy', 21, 'thrissur', 'aswathy', 21, 'thrissur', 'aswathy', 21, 'thrissur', 'aswathy', 21, 'thrissur', 'aswathy', 21, 'thrissur', 'aswathy', 21, 'thrissur', 'aswathy', 21, 'thrissur', 'aswathy', 21, 'thrissur', 'aswathy', 21, 'thrissur', 'aswathy', 21, 'thrissur', 'aswathy', 21, 'thrissur', 'aswathy', 21, 'thrissur')\n",
            "('aswathy', 21, 'thrissur', 'edapally')\n"
          ]
        }
      ]
    },
    {
      "cell_type": "code",
      "source": [],
      "metadata": {
        "id": "BznaXUct05MJ"
      },
      "execution_count": null,
      "outputs": []
    },
    {
      "cell_type": "code",
      "source": [
        "# program print 1 to 50\n",
        "count = 0\n",
        "while count<50:\n",
        "  count+=1\n",
        "  print(\"number:\",count)\n"
      ],
      "metadata": {
        "colab": {
          "base_uri": "https://localhost:8080/"
        },
        "id": "oMfxpSsdCgZl",
        "outputId": "0f10d03f-c5a8-4b9d-c787-30b20fb14ac4"
      },
      "execution_count": null,
      "outputs": [
        {
          "output_type": "stream",
          "name": "stdout",
          "text": [
            "number: 1\n",
            "number: 2\n",
            "number: 3\n",
            "number: 4\n",
            "number: 5\n",
            "number: 6\n",
            "number: 7\n",
            "number: 8\n",
            "number: 9\n",
            "number: 10\n",
            "number: 11\n",
            "number: 12\n",
            "number: 13\n",
            "number: 14\n",
            "number: 15\n",
            "number: 16\n",
            "number: 17\n",
            "number: 18\n",
            "number: 19\n",
            "number: 20\n",
            "number: 21\n",
            "number: 22\n",
            "number: 23\n",
            "number: 24\n",
            "number: 25\n",
            "number: 26\n",
            "number: 27\n",
            "number: 28\n",
            "number: 29\n",
            "number: 30\n",
            "number: 31\n",
            "number: 32\n",
            "number: 33\n",
            "number: 34\n",
            "number: 35\n",
            "number: 36\n",
            "number: 37\n",
            "number: 38\n",
            "number: 39\n",
            "number: 40\n",
            "number: 41\n",
            "number: 42\n",
            "number: 43\n",
            "number: 44\n",
            "number: 45\n",
            "number: 46\n",
            "number: 47\n",
            "number: 48\n",
            "number: 49\n",
            "number: 50\n"
          ]
        }
      ]
    },
    {
      "cell_type": "code",
      "source": [
        "# program to check automorphic and trimorpic number\n",
        "a = int(input(\"enter the num:\"))\n",
        "squre = a**2\n",
        "smode = pow(10,len(str(a)))\n",
        "cube = a**3\n",
        "cmode = pow(10,len(str(a)))\n",
        "if squre % smode == a:\n",
        "  print(\"automorphic\")\n",
        "elif cube % cmode == a:\n",
        "  print(\"trimorphic\")\n",
        "else:\n",
        "  print(\"not automorphic and trimorphic\")"
      ],
      "metadata": {
        "id": "KFPbGMdMDy5H",
        "colab": {
          "base_uri": "https://localhost:8080/"
        },
        "outputId": "7fe58762-6a6d-4fe8-f763-0ab3f172c021"
      },
      "execution_count": null,
      "outputs": [
        {
          "output_type": "stream",
          "name": "stdout",
          "text": [
            "enter the num:3\n",
            "not automorphic and trimorphic\n"
          ]
        }
      ]
    },
    {
      "cell_type": "code",
      "source": [
        "# program to cheak season\n",
        "month = int(input(\"enter the month 1 to 12:\"))\n",
        "if 3>= month <=6:\n",
        "  print(\"summer\")\n",
        "elif 7>= month <=9:\n",
        "  print(\"winter\")\n",
        "elif 10>= month >=11:\n",
        "  print(\"autumn\")\n",
        "else:\n",
        "  print(\"spring\")"
      ],
      "metadata": {
        "colab": {
          "base_uri": "https://localhost:8080/"
        },
        "id": "55gD45SDPxwX",
        "outputId": "7fe2f99c-d209-4ab6-e2ef-e878caf86354"
      },
      "execution_count": null,
      "outputs": [
        {
          "output_type": "stream",
          "name": "stdout",
          "text": [
            "enter the month 1 to 12:12\n",
            "spring\n"
          ]
        }
      ]
    },
    {
      "cell_type": "code",
      "source": [
        "# program using set\n",
        "myset={1, 2, \"a\", 22, \"oneteam\", 2, 3}\n",
        "print(myset)"
      ],
      "metadata": {
        "colab": {
          "base_uri": "https://localhost:8080/"
        },
        "id": "ol5NVZi514aO",
        "outputId": "05b81e32-f873-4e56-fbae-0ab7b273e773"
      },
      "execution_count": null,
      "outputs": [
        {
          "output_type": "stream",
          "name": "stdout",
          "text": [
            "{1, 2, 3, 'a', 22, 'oneteam'}\n"
          ]
        }
      ]
    },
    {
      "cell_type": "code",
      "source": [
        "# program using dictionary\n",
        "a={'name':'aswathy','age':'21','place':'killimangalam'}\n",
        "print(a)\n",
        "print(a['name'])\n",
        "print(a['age'])\n",
        "print(a['place'])\n"
      ],
      "metadata": {
        "colab": {
          "base_uri": "https://localhost:8080/"
        },
        "id": "2XlRxO_-3Kl9",
        "outputId": "62b7eda1-5e87-49f6-e718-b940b189d161"
      },
      "execution_count": null,
      "outputs": [
        {
          "output_type": "stream",
          "name": "stdout",
          "text": [
            "{'name': 'aswathy', 'age': '21', 'place': 'killimangalam'}\n",
            "aswathy\n",
            "21\n",
            "killimangalam\n"
          ]
        }
      ]
    },
    {
      "cell_type": "code",
      "source": [
        "# program to print even number 1 to 50\n",
        "print(\"print even number 1 to 50\")\n",
        "count=1\n",
        "while count<=50:\n",
        "  if count%2==0:\n",
        "   print(\"even numbers\",count)\n",
        "  count+=1"
      ],
      "metadata": {
        "colab": {
          "base_uri": "https://localhost:8080/"
        },
        "id": "bDB3vty85nqH",
        "outputId": "b213dc3e-c4c2-489e-f1f6-a97cb3531cdd"
      },
      "execution_count": null,
      "outputs": [
        {
          "output_type": "stream",
          "name": "stdout",
          "text": [
            "print even number 1 to 50\n",
            "even numbers 2\n",
            "even numbers 4\n",
            "even numbers 6\n",
            "even numbers 8\n",
            "even numbers 10\n",
            "even numbers 12\n",
            "even numbers 14\n",
            "even numbers 16\n",
            "even numbers 18\n",
            "even numbers 20\n",
            "even numbers 22\n",
            "even numbers 24\n",
            "even numbers 26\n",
            "even numbers 28\n",
            "even numbers 30\n",
            "even numbers 32\n",
            "even numbers 34\n",
            "even numbers 36\n",
            "even numbers 38\n",
            "even numbers 40\n",
            "even numbers 42\n",
            "even numbers 44\n",
            "even numbers 46\n",
            "even numbers 48\n",
            "even numbers 50\n"
          ]
        }
      ]
    },
    {
      "cell_type": "code",
      "source": [
        "# program to print multiplication table\n",
        "num1=int(input(\"enter the number:\" ))\n",
        "count=1\n",
        "while count<=10:\n",
        "  print(count, \" * \", num1, \" = \", count*num1)\n",
        "  count+=1\n",
        "\n"
      ],
      "metadata": {
        "colab": {
          "base_uri": "https://localhost:8080/"
        },
        "id": "jtdht4x-67J-",
        "outputId": "75bfd13e-4d13-4cc2-bb5a-56c092e28a2b"
      },
      "execution_count": null,
      "outputs": [
        {
          "output_type": "stream",
          "name": "stdout",
          "text": [
            "enter the number:10\n",
            "1  *  10  =  10\n",
            "2  *  10  =  20\n",
            "3  *  10  =  30\n",
            "4  *  10  =  40\n",
            "5  *  10  =  50\n",
            "6  *  10  =  60\n",
            "7  *  10  =  70\n",
            "8  *  10  =  80\n",
            "9  *  10  =  90\n",
            "10  *  10  =  100\n"
          ]
        }
      ]
    },
    {
      "cell_type": "code",
      "source": [
        "# program to find sum of even number\n",
        "count=1\n",
        "limit=30\n",
        "sum1=0\n",
        "while count<=30:\n",
        " if count%2==0:\n",
        "  sum1+=count\n",
        " count+=1\n",
        "print(\"sum of even number:\",sum1)\n"
      ],
      "metadata": {
        "colab": {
          "base_uri": "https://localhost:8080/"
        },
        "id": "leT2vOJa8v5l",
        "outputId": "9b9d4e9a-3bb5-4aaf-e05b-677dc7745f0c"
      },
      "execution_count": null,
      "outputs": [
        {
          "output_type": "stream",
          "name": "stdout",
          "text": [
            "sum of even number: 240\n"
          ]
        }
      ]
    },
    {
      "cell_type": "code",
      "source": [
        "# program impuilt methods\n",
        "#len()\n",
        "my_string=\"python programming\"\n",
        "print(len(my_string))\n",
        "print(my_string.upper())\n",
        "print(my_string.lower())\n",
        "print(my_string.capitalize())"
      ],
      "metadata": {
        "colab": {
          "base_uri": "https://localhost:8080/"
        },
        "id": "gDUVg4ukSVXA",
        "outputId": "d1167545-7216-4388-8a12-fcfb7b011024"
      },
      "execution_count": null,
      "outputs": [
        {
          "output_type": "stream",
          "name": "stdout",
          "text": [
            "18\n",
            "PYTHON PROGRAMMING\n",
            "python programming\n",
            "Python programming\n"
          ]
        }
      ]
    },
    {
      "cell_type": "code",
      "source": [
        "# program for count\n",
        "s = \"hello, hello, hello, world!\"\n",
        "count = s.count(\"hello\")\n",
        "print(count)\n"
      ],
      "metadata": {
        "colab": {
          "base_uri": "https://localhost:8080/"
        },
        "id": "E87RzCoyTkkM",
        "outputId": "a7b4a30d-e9a3-4b7b-8b83-2baff6b2392e"
      },
      "execution_count": null,
      "outputs": [
        {
          "output_type": "stream",
          "name": "stdout",
          "text": [
            "3\n"
          ]
        }
      ]
    },
    {
      "cell_type": "code",
      "source": [
        "# program replace\n",
        "my_string = (\"hello, world\")\n",
        "new_string = my_string.replace(\"hello\",\"hey\")\n",
        "print(new_string)"
      ],
      "metadata": {
        "colab": {
          "base_uri": "https://localhost:8080/"
        },
        "id": "033BZIM5Vd2H",
        "outputId": "b1a51880-9d85-481c-f872-66e430e4cb2b"
      },
      "execution_count": null,
      "outputs": [
        {
          "output_type": "stream",
          "name": "stdout",
          "text": [
            "hey, world\n"
          ]
        }
      ]
    },
    {
      "cell_type": "code",
      "source": [
        "# program spliting\n",
        "my_string = \"orange, apple, banana\"\n",
        "fruit = my_string.split()\n",
        "print(fruit)"
      ],
      "metadata": {
        "colab": {
          "base_uri": "https://localhost:8080/"
        },
        "id": "vXAe1xUPWJfh",
        "outputId": "c5419131-a256-4db5-c4a3-395009e8e495"
      },
      "execution_count": null,
      "outputs": [
        {
          "output_type": "stream",
          "name": "stdout",
          "text": [
            "['orange,', 'apple,', 'banana']\n"
          ]
        }
      ]
    },
    {
      "cell_type": "code",
      "source": [
        "# list impuild methods\n",
        "# append program\n",
        "my_list=[1, 2, 2, 4]\n",
        "my_list.append(3)\n",
        "print(my_list)"
      ],
      "metadata": {
        "colab": {
          "base_uri": "https://localhost:8080/"
        },
        "id": "XYkvTF87aUTW",
        "outputId": "7e2ff65c-2e7f-42e4-f053-2fc5b56eeedd"
      },
      "execution_count": null,
      "outputs": [
        {
          "output_type": "stream",
          "name": "stdout",
          "text": [
            "[1, 2, 2, 4, 3]\n"
          ]
        }
      ]
    },
    {
      "cell_type": "code",
      "source": [
        "# extend program\n",
        "my_list=[2, 4, 7, 8]\n",
        "my_list.extend([1,2,3])\n",
        "print(my_list)"
      ],
      "metadata": {
        "colab": {
          "base_uri": "https://localhost:8080/"
        },
        "id": "6v-dSG7jcMbe",
        "outputId": "f8368ff3-b21b-4a4f-f9c0-865b7da0accd"
      },
      "execution_count": null,
      "outputs": [
        {
          "output_type": "stream",
          "name": "stdout",
          "text": [
            "[2, 4, 7, 8, 1, 2, 3]\n"
          ]
        }
      ]
    },
    {
      "cell_type": "code",
      "source": [
        "# insert program, using for inser a value in particular place\n",
        "my_list=[1, 2, 3, 4]\n",
        "my_list.insert(1,3)\n",
        "print(my_list)"
      ],
      "metadata": {
        "colab": {
          "base_uri": "https://localhost:8080/"
        },
        "id": "D0j11FHzc2Tj",
        "outputId": "e714678c-4a2f-487c-b30e-5583c2d520be"
      },
      "execution_count": null,
      "outputs": [
        {
          "output_type": "stream",
          "name": "stdout",
          "text": [
            "[1, 3, 2, 3, 4]\n"
          ]
        }
      ]
    },
    {
      "cell_type": "code",
      "source": [
        "# program remove, remove element from starting position\n",
        "my_list=[1, 2, 3, 2,]\n",
        "my_list.remove(3)\n",
        "print(my_list)"
      ],
      "metadata": {
        "colab": {
          "base_uri": "https://localhost:8080/"
        },
        "id": "JqS4acC4dlbJ",
        "outputId": "9944a293-d471-462c-f086-dcab85ee6830"
      },
      "execution_count": null,
      "outputs": [
        {
          "output_type": "stream",
          "name": "stdout",
          "text": [
            "[1, 2, 2]\n"
          ]
        }
      ]
    },
    {
      "cell_type": "code",
      "source": [
        "# program pop, remove element from index\n",
        "my_list=[1, 2, 3, 4]\n",
        "my_list.pop(3)\n",
        "print(my_list)"
      ],
      "metadata": {
        "colab": {
          "base_uri": "https://localhost:8080/"
        },
        "id": "quxM0XwGehjQ",
        "outputId": "f68e5b6a-1951-4bd2-e6c2-c50f885772f7"
      },
      "execution_count": null,
      "outputs": [
        {
          "output_type": "stream",
          "name": "stdout",
          "text": [
            "[1, 2, 3]\n"
          ]
        }
      ]
    },
    {
      "cell_type": "code",
      "source": [
        "# program index\n",
        "my_list = [1, 2, 3, 2]\n",
        "s=my_list.index(1)\n",
        "print(s)"
      ],
      "metadata": {
        "colab": {
          "base_uri": "https://localhost:8080/"
        },
        "id": "4AZKvF3rT6Mj",
        "outputId": "92659e06-4709-43dc-942c-10f94902ba42"
      },
      "execution_count": null,
      "outputs": [
        {
          "output_type": "stream",
          "name": "stdout",
          "text": [
            "0\n"
          ]
        }
      ]
    },
    {
      "cell_type": "code",
      "source": [
        "# program count\n",
        "my_list = [1, 2, 3, 2]\n",
        "s=my_list.count(3)\n",
        "print(s)\n"
      ],
      "metadata": {
        "colab": {
          "base_uri": "https://localhost:8080/"
        },
        "id": "Drecr8phVMMJ",
        "outputId": "38e08daa-be79-46c6-9391-9a588fbac313"
      },
      "execution_count": null,
      "outputs": [
        {
          "output_type": "stream",
          "name": "stdout",
          "text": [
            "1\n"
          ]
        }
      ]
    },
    {
      "cell_type": "code",
      "source": [
        "# program sort\n",
        "my_list = [41, 12, 63, 32]\n",
        "s=my_list.sort()\n",
        "print(s)"
      ],
      "metadata": {
        "colab": {
          "base_uri": "https://localhost:8080/"
        },
        "id": "UBh_lPkwWCoE",
        "outputId": "27718e7b-cac1-4295-f936-cc34f02fda70"
      },
      "execution_count": null,
      "outputs": [
        {
          "output_type": "stream",
          "name": "stdout",
          "text": [
            "None\n"
          ]
        }
      ]
    },
    {
      "cell_type": "code",
      "source": [
        "# program reverse\n",
        "my_list = [1, 2, 3, 4]\n",
        "my_list.reverse()\n",
        "print(my_list)"
      ],
      "metadata": {
        "colab": {
          "base_uri": "https://localhost:8080/"
        },
        "id": "tppO3dRVXQFI",
        "outputId": "bfedeb9b-46e6-4d9d-de73-b0291539b13b"
      },
      "execution_count": null,
      "outputs": [
        {
          "output_type": "stream",
          "name": "stdout",
          "text": [
            "[4, 3, 2, 1]\n"
          ]
        }
      ]
    },
    {
      "cell_type": "code",
      "source": [
        "# clear program\n",
        "my_list=[1,3,4,5]\n",
        "my_list.clear()\n",
        "print(my_list)"
      ],
      "metadata": {
        "colab": {
          "base_uri": "https://localhost:8080/"
        },
        "id": "DlsAVrlCcEgj",
        "outputId": "8e94a77f-efad-407c-8c8c-f7fc8a2f3b49"
      },
      "execution_count": null,
      "outputs": [
        {
          "output_type": "stream",
          "name": "stdout",
          "text": [
            "[]\n"
          ]
        }
      ]
    },
    {
      "cell_type": "code",
      "source": [
        "#program to print grade of student\n",
        "print(\"enter the student details\")\n",
        "s_name=input(\"name:\")\n",
        "print(\"mark\")\n",
        "maths=float(input(\"maths:\"))\n",
        "eng=float(input(\"english:\"))\n",
        "science=float(input(\"science:\"))\n",
        "total=maths+eng+science\n",
        "print(total)\n",
        "avg=total/3\n",
        "if avg>=91 and avg<=100:\n",
        "  print(\"A+\")\n",
        "elif avg>=81 and avg<=91:\n",
        "  print(\"A\")\n",
        "elif avg>=71 and avg<=81:\n",
        "  print(\"B+\")\n",
        "elif avg>=61 and avg<=71:\n",
        "  print(\"B\")\n",
        "elif avg>=51 and avg<=61:\n",
        "  print(\"c\")\n",
        "elif avg>=41 and avg<=51:\n",
        "  print(\"d\")\n",
        "elif avg>=31 and avg<=41:\n",
        "  print(\"fail\")"
      ],
      "metadata": {
        "colab": {
          "base_uri": "https://localhost:8080/"
        },
        "id": "9eHc4s1x1zyd",
        "outputId": "579e4eb6-df16-430b-bd2f-40c7e72632c3"
      },
      "execution_count": null,
      "outputs": [
        {
          "output_type": "stream",
          "name": "stdout",
          "text": [
            "enter the student details\n",
            "name:a\n",
            "mark\n",
            "maths:88\n",
            "english:99\n",
            "science:77\n",
            "264.0\n",
            "A\n"
          ]
        }
      ]
    },
    {
      "cell_type": "code",
      "source": [
        "#product of even number\n",
        "count=1\n",
        "limit=30\n",
        "product=1\n",
        "while(count<=limit):\n",
        "  if count%2==0:\n",
        "    product*=2\n",
        "  count+=1\n",
        "print(\"product of even:\",product)"
      ],
      "metadata": {
        "colab": {
          "base_uri": "https://localhost:8080/"
        },
        "id": "ayFQ74n3-Wr0",
        "outputId": "adc125e9-606b-464a-c8cf-65e842d23021"
      },
      "execution_count": null,
      "outputs": [
        {
          "output_type": "stream",
          "name": "stdout",
          "text": [
            "product of even: 32768\n"
          ]
        }
      ]
    },
    {
      "cell_type": "code",
      "source": [
        "#set\n",
        "myset={1,2,3}\n",
        "myset.add(4)\n",
        "print(myset)\n",
        "\n",
        "\n",
        "#update\n",
        "myset.update([4,-3])\n",
        "print(myset)\n",
        "\n",
        "#remove\n",
        "my_set = {1, 2, 3, 4, 5}\n",
        "my_set.remove(3)\n",
        "print(my_set)\n",
        "\n",
        "#discard\n",
        "my_set.discard(2)\n",
        "print(my_set)\n",
        "\n",
        "#pop ()\n",
        "#clear ()\n",
        "\n",
        "set1 = {1, 2, 3}\n",
        "set2 = {3, 4, 5}\n",
        "\n",
        "union_set = set1.intersection(set2)\n",
        "print(union_set)\n",
        "\n",
        "\n"
      ],
      "metadata": {
        "colab": {
          "base_uri": "https://localhost:8080/"
        },
        "id": "qqLEDFdnEHKC",
        "outputId": "e96153f3-1dc9-4d0e-c226-dff677532213"
      },
      "execution_count": null,
      "outputs": [
        {
          "output_type": "stream",
          "name": "stdout",
          "text": [
            "{1, 2, 3, 4}\n",
            "{1, 2, 3, 4, -3}\n",
            "{1, 2, 4, 5}\n",
            "{1, 4, 5}\n",
            "{3}\n"
          ]
        }
      ]
    },
    {
      "cell_type": "code",
      "source": [
        "#arbitaryargument parameter passing\n",
        "def sum(*a):\n",
        "  print(a)\n",
        "\n",
        "sum(2,4,5,7,9)"
      ],
      "metadata": {
        "colab": {
          "base_uri": "https://localhost:8080/"
        },
        "id": "98NvGt2eX-bq",
        "outputId": "ae370da2-c1c3-4264-b325-ddef00647f31"
      },
      "execution_count": null,
      "outputs": [
        {
          "output_type": "stream",
          "name": "stdout",
          "text": [
            "(2, 4, 5, 7, 9)\n"
          ]
        }
      ]
    },
    {
      "cell_type": "code",
      "source": [
        "#reference parameter passing\n",
        "def sum(a):\n",
        "  print(a)\n",
        "r=10\n",
        "sum(r)"
      ],
      "metadata": {
        "colab": {
          "base_uri": "https://localhost:8080/"
        },
        "id": "ykMxw6pzY1hw",
        "outputId": "51e799f0-7fd3-427d-9b28-6076d5a169c3"
      },
      "execution_count": null,
      "outputs": [
        {
          "output_type": "stream",
          "name": "stdout",
          "text": [
            "10\n"
          ]
        }
      ]
    },
    {
      "cell_type": "code",
      "source": [
        "#keyword arbitaryparameter passing\n",
        "def word(**x):\n",
        "  print(x)\n",
        "word(name=\"aa\",age=\"10\")"
      ],
      "metadata": {
        "colab": {
          "base_uri": "https://localhost:8080/"
        },
        "id": "gRav3svoZmR5",
        "outputId": "119918a4-6612-4b08-8ae1-9478a7463772"
      },
      "execution_count": null,
      "outputs": [
        {
          "output_type": "stream",
          "name": "stdout",
          "text": [
            "{'name': 'aa', 'age': '10'}\n"
          ]
        }
      ]
    },
    {
      "cell_type": "code",
      "source": [
        "#create contact book\n",
        "contact={}\n",
        "def add():\n",
        "  name=input(\"enter your name:\")\n",
        "  phone=input(\"enter your phone:\")\n",
        "  contact[name]=phone\n",
        "\n",
        "def search():\n",
        "  search_name=int(input(\"enter search_name:\"))\n",
        "  if search_name in contact:\n",
        "    print(search_name,\"yes search_name in contact\")\n",
        "  else:\n",
        "    print(\"not in contact\")\n",
        "def update():\n",
        "  update_name=int(input(\"enter update_name:\"))\n",
        "  update_number=int(input(\"enter update_number:\"))\n",
        "  update[update_name]=update_number\n",
        "add()\n",
        "search()\n"
      ],
      "metadata": {
        "colab": {
          "base_uri": "https://localhost:8080/"
        },
        "id": "84cKLFRYbcTT",
        "outputId": "b4273a0a-836e-4240-e8f4-30f66538ff7a"
      },
      "execution_count": null,
      "outputs": [
        {
          "name": "stdout",
          "output_type": "stream",
          "text": [
            "enter your name:aa\n",
            "enter your phone:787878\n"
          ]
        }
      ]
    }
  ]
}